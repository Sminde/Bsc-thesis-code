{
 "cells": [
  {
   "cell_type": "markdown",
   "id": "e0a33b4e-7269-4362-86f0-cdb85829768b",
   "metadata": {},
   "source": [
    "Creating a list called Picks that contains the manual picks"
   ]
  },
  {
   "cell_type": "code",
   "execution_count": 67,
   "id": "4125d113-0c76-46fe-8fd4-1863c39f8b9c",
   "metadata": {},
   "outputs": [],
   "source": [
    "def manual_picks():\n",
    "    Picks = []\n",
    "    with open(\"/home/pminttu/kandityo/paiva189/2018189230000.arrival\") as file:\n",
    "        for line in file:\n",
    "            linelist = line.split()\n",
    "            if linelist[7] == \"P\":\n",
    "                #station.append(linelist[0])\n",
    "                #time.append(float(linelist[1]))\n",
    "                #station = linelist[0]\n",
    "                time = float(linelist[1])\n",
    "                Picks.append(time)\n",
    "    return Picks\n",
    "\n"
   ]
  },
  {
   "cell_type": "markdown",
   "id": "f091772a-3bc1-47c2-a705-ea5fda1e92b1",
   "metadata": {},
   "source": [
    "Checking that it works"
   ]
  },
  {
   "cell_type": "code",
   "execution_count": 68,
   "id": "f2589759-fe44-495f-a7f1-778760db2fed",
   "metadata": {},
   "outputs": [],
   "source": [
    "Picks = manual_picks()"
   ]
  },
  {
   "cell_type": "code",
   "execution_count": 69,
   "id": "7805ee8a-1559-48e4-92fa-d893642e6cbb",
   "metadata": {},
   "outputs": [
    {
     "name": "stdout",
     "output_type": "stream",
     "text": [
      "[1531013256.79376, 1531030101.05873, 1531033786.09847, 1531043539.21335, 1531056509.286, 1531056511.87671, 1531059689.72026, 1531063458.96837, 1531066195.9683, 1531067632.63626, 1531072309.54614, 1531079504.7001, 1531093942.41782]\n"
     ]
    }
   ],
   "source": [
    "print(Picks)"
   ]
  },
  {
   "cell_type": "code",
   "execution_count": 70,
   "id": "b5b83dbb-15fd-486c-9b68-44c229ff6bfb",
   "metadata": {},
   "outputs": [
    {
     "data": {
      "text/plain": [
       "13"
      ]
     },
     "execution_count": 70,
     "metadata": {},
     "output_type": "execute_result"
    }
   ],
   "source": [
    "len(Picks)"
   ]
  },
  {
   "cell_type": "markdown",
   "id": "065e97cc-b136-495f-add5-0b69c51933ed",
   "metadata": {},
   "source": [
    "Creating a list that contains the times (first) and magnitudes (second) of manual events "
   ]
  },
  {
   "cell_type": "code",
   "execution_count": 71,
   "id": "6c01f5cc-04a6-4a96-ad6f-c67f69c768ec",
   "metadata": {},
   "outputs": [],
   "source": [
    "def manual_picks2():\n",
    "    Picks_time = []\n",
    "    Picks_magnitude = []\n",
    "    with open(\"/home/pminttu/kandityo/paiva189_tulokset/2018189230000.arrival\") as file:\n",
    "        for line in file:\n",
    "            linelist = line.split()\n",
    "            if linelist[7] == \"P\":\n",
    "                if len(linelist) > 26:    \n",
    "                    if float(linelist[26]) >= -0.1:\n",
    "                        #time = float(linelist[1])\n",
    "                        #Picks_time.append(time)\n",
    "                        magnitude = float(linelist[26])\n",
    "                        time = float(linelist[1])\n",
    "                        Picks_magnitude.append(time)\n",
    "                        Picks_magnitude.append(magnitude)\n",
    "    return Picks_magnitude\n"
   ]
  },
  {
   "cell_type": "markdown",
   "id": "741c214e-f2bd-4fb0-b97e-9413d781cf83",
   "metadata": {},
   "source": [
    "Checking that it works"
   ]
  },
  {
   "cell_type": "code",
   "execution_count": 72,
   "id": "3b7b757a-bfb5-4c1f-aded-962c1905d8e4",
   "metadata": {},
   "outputs": [
    {
     "name": "stdout",
     "output_type": "stream",
     "text": [
      "[]\n"
     ]
    }
   ],
   "source": [
    "Picks_magnitude = manual_picks2()\n",
    "print(Picks_magnitude)\n"
   ]
  },
  {
   "cell_type": "markdown",
   "id": "2b5ecaf4-6990-4de4-8398-f4c2fa1149eb",
   "metadata": {},
   "source": [
    "Creatig a list for the automatic events' times and calling it Picks2"
   ]
  },
  {
   "cell_type": "code",
   "execution_count": 73,
   "id": "7ebcbdd4-2157-49ae-8df2-33cbc4f7f59a",
   "metadata": {},
   "outputs": [],
   "source": [
    "def automatic_picks():\n",
    "    Picks2 = []\n",
    "    with open(\"/home/pminttu/kandityo/paiva189_tulokset/obspydets.out.2018189230000.2.txt\") as file:\n",
    "        lines_to_read = [12, 13, 14, 15, 16, 17, 18, 19, 20, 21, 22, 23, 24, 25, 26, 27, 28, 29]\n",
    "        for position, line in enumerate(file):\n",
    "            if position in lines_to_read:\n",
    "                for line in file:\n",
    "                    linelist = line.split()\n",
    "                    time1 = float(linelist[0])\n",
    "                    time2 = float(linelist[1])\n",
    "                    time = (time1+time2)/2\n",
    "                    Picks2.append(time)\n",
    "                \n",
    "    return Picks2\n"
   ]
  },
  {
   "cell_type": "markdown",
   "id": "15abbc49-55b8-4396-8aa9-d1a9e539d5f0",
   "metadata": {},
   "source": [
    "Checking that it works"
   ]
  },
  {
   "cell_type": "code",
   "execution_count": 74,
   "id": "5ee966b5-d067-4182-937f-499dfb2925e9",
   "metadata": {},
   "outputs": [],
   "source": [
    "Picks2 = automatic_picks()"
   ]
  },
  {
   "cell_type": "code",
   "execution_count": 75,
   "id": "ed35d2c0-500f-48c8-963d-7280c8207cfc",
   "metadata": {},
   "outputs": [
    {
     "name": "stdout",
     "output_type": "stream",
     "text": [
      "[]\n"
     ]
    }
   ],
   "source": [
    "print(Picks2)"
   ]
  },
  {
   "cell_type": "markdown",
   "id": "4fa6927b-8902-46d4-a6fe-7b7bcf87b844",
   "metadata": {},
   "source": [
    "Creating a list that contains the times (first) and magnitudes (second) of automatic events. The magnitude are added by comparing the times in automatic events' list and manual events' list. "
   ]
  },
  {
   "cell_type": "code",
   "execution_count": 76,
   "id": "aadcbce2-4460-4bc8-a03d-76fcc8dc9d6a",
   "metadata": {},
   "outputs": [],
   "source": [
    "def automatic_picks2():\n",
    "    Picks_time = []\n",
    "    Picks2_magnitude = []\n",
    "    with open(\"/home/pminttu/kandityo/paiva189_tulokset/obspydets.out.2018189230000.2.txt\") as file:\n",
    "        lines_to_read = [12, 13, 14, 15, 16, 17, 18, 19, 20, 21, 22, 23, 24, 25, 26, 27, 28, 29]\n",
    "        for position, line in enumerate(file):\n",
    "            if position in lines_to_read:\n",
    "                for line in file:\n",
    "                    linelist = line.split()\n",
    "                    time1 = float(linelist[0])\n",
    "                    time2 = float(linelist[1])\n",
    "                    time = (time1+time2)/2\n",
    "                    for i in range(len(Picks2)+3):\n",
    "                        if abs(time - Picks_magnitude[i]) < 1:\n",
    "                            Picks2_magnitude.append(time)\n",
    "                            #Picks2_magnitude.append(abs(time - Picks_magnitude[i]))\n",
    "                            if time - Picks_magnitude[i] < 1:\n",
    "                                Picks2_magnitude.append(Picks_magnitude[i+1])\n",
    "    return Picks2_magnitude\n",
    "\n",
    "                    \n",
    "        #for line in file:\n",
    "            #linelist = line.split()\n",
    "            #if linelist[7] == \"P\":\n",
    "                #if float(linelist[26]) >= -0.1:\n",
    "                    #time = float(linelist[1])\n",
    "                    #Picks_time.append(time)\n",
    "                    #magnitude = float(linelist[26])\n",
    "                    #time = float(linelist[1])\n",
    "                    #Picks_magnitude.append(time)\n",
    "                    #Picks_magnitude.append(magnitude)\n",
    "    #return Picks_magnitude\n"
   ]
  },
  {
   "cell_type": "code",
   "execution_count": 77,
   "id": "15c36b22-01fb-44f9-a806-b840648aac26",
   "metadata": {},
   "outputs": [],
   "source": [
    "Picks2_magnitude = automatic_picks2()"
   ]
  },
  {
   "cell_type": "code",
   "execution_count": 78,
   "id": "4102ddb2-cf96-4716-b8a3-5571eea342c6",
   "metadata": {},
   "outputs": [
    {
     "name": "stdout",
     "output_type": "stream",
     "text": [
      "[]\n"
     ]
    }
   ],
   "source": [
    "print(Picks2_magnitude)"
   ]
  },
  {
   "cell_type": "markdown",
   "id": "bf360ce1-f85b-46b3-bb78-b5fb4feb95df",
   "metadata": {},
   "source": [
    "Testing if the manual and automatic lists have common events"
   ]
  },
  {
   "cell_type": "code",
   "execution_count": 79,
   "id": "e874c69d-1c7f-48df-be1d-22e5b6d19c4b",
   "metadata": {},
   "outputs": [],
   "source": [
    "import numpy as np\n",
    "\n",
    "array_manual = np.array(Picks)\n",
    "array_auto = np.array(Picks2)"
   ]
  },
  {
   "cell_type": "code",
   "execution_count": 80,
   "id": "9a01a020-64aa-4b6b-b8bc-9811359bbe97",
   "metadata": {},
   "outputs": [
    {
     "name": "stdout",
     "output_type": "stream",
     "text": [
      "0 common events in the lists. 13 events not found in a list of automatically detected events.\n"
     ]
    }
   ],
   "source": [
    "common_events = 0\n",
    "no_manual_pick = 0\n",
    "\n",
    "for i in range(len(Picks)):\n",
    "    pick_list = array_auto[(array_auto > Picks[i]-1) & (array_auto < Picks[i]+1)]\n",
    "    if len(pick_list) == 0:\n",
    "        no_manual_pick += 1\n",
    "    else:\n",
    "        common_events += 1\n",
    "        print(Picks[i])\n",
    "        \n",
    "print(f\"{common_events} common events in the lists. {no_manual_pick} events not found in a list of automatically detected events.\")\n"
   ]
  }
 ],
 "metadata": {
  "kernelspec": {
   "display_name": "Python 3",
   "language": "python",
   "name": "python3"
  },
  "language_info": {
   "codemirror_mode": {
    "name": "ipython",
    "version": 3
   },
   "file_extension": ".py",
   "mimetype": "text/x-python",
   "name": "python",
   "nbconvert_exporter": "python",
   "pygments_lexer": "ipython3",
   "version": "3.9.1"
  }
 },
 "nbformat": 4,
 "nbformat_minor": 5
}
